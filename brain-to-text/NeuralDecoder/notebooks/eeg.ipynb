{
 "cells": [
  {
   "cell_type": "code",
   "execution_count": 14,
   "metadata": {},
   "outputs": [],
   "source": [
    "from brainflow.board_shim import BoardShim, BrainFlowInputParams, BoardIds\n",
    "from pprint import pprint"
   ]
  },
  {
   "cell_type": "code",
   "execution_count": 15,
   "metadata": {},
   "outputs": [],
   "source": [
    "import time\n",
    "import pandas as pd\n",
    "from io import StringIO"
   ]
  },
  {
   "cell_type": "code",
   "execution_count": 16,
   "metadata": {},
   "outputs": [],
   "source": [
    "import os\n",
    "import time\n",
    "import firebase_admin\n",
    "from firebase_admin import credentials, firestore\n",
    "import datetime"
   ]
  },
  {
   "cell_type": "code",
   "execution_count": 17,
   "metadata": {},
   "outputs": [],
   "source": [
    "def initialize_firebase():\n",
    "    cred_path = \"treehacks-c0d12-firebase-adminsdk-fbsvc-02119ca686.json\"\n",
    "    if not firebase_admin._apps:  \n",
    "        cred = credentials.Certificate(cred_path)\n",
    "        firebase_admin.initialize_app(cred)"
   ]
  },
  {
   "cell_type": "code",
   "execution_count": 18,
   "metadata": {},
   "outputs": [],
   "source": [
    "initialize_firebase()\n",
    "db = firestore.client()"
   ]
  },
  {
   "cell_type": "code",
   "execution_count": 22,
   "metadata": {},
   "outputs": [],
   "source": [
    "params = BrainFlowInputParams()\n",
    "params.serial_port = \"/dev/cu.Bluetooth-Incoming-Port\"\n",
    "board_id = BoardIds.CYTON_BOARD\n",
    "board = BoardShim(board_id, params) "
   ]
  },
  {
   "cell_type": "code",
   "execution_count": 23,
   "metadata": {},
   "outputs": [],
   "source": [
    "eeg_channel_indices = BoardShim.get_eeg_channels(board_id)"
   ]
  },
  {
   "cell_type": "code",
   "execution_count": null,
   "metadata": {},
   "outputs": [],
   "source": [
    "board_desc = BoardShim.get_board_descr(board_id)\n",
    "pprint(board_desc)"
   ]
  },
  {
   "cell_type": "code",
   "execution_count": null,
   "metadata": {},
   "outputs": [],
   "source": [
    "board.prepare_session()"
   ]
  },
  {
   "cell_type": "code",
   "execution_count": null,
   "metadata": {},
   "outputs": [],
   "source": [
    "while (True):\n",
    "    start_time = datetime.datetime.now()\n",
    "    board.start_stream(10)\n",
    "    time.sleep(10)\n",
    "    data = board.get_board_data()  \n",
    "    board.stop_stream()\n",
    "    eeg_data = data[eeg_channel_indices, :]\n",
    "    df = pd.DataFrame(eeg_data)\n",
    "    csv_string = df.to_csv(index=False)\n",
    "    doc_ref = db.collection(\"stream\").add({\n",
    "        \"brain\": csv_string,\n",
    "        \"timestamp\": firestore.SERVER_TIMESTAMP  \n",
    "    })\n",
    "    print(f\"Saved command to Firestore: {doc_ref[1].id}\")\n",
    "    time.sleep(5)"
   ]
  },
  {
   "cell_type": "code",
   "execution_count": 13,
   "metadata": {},
   "outputs": [],
   "source": [
    "board.release_session()"
   ]
  },
  {
   "cell_type": "code",
   "execution_count": 12,
   "metadata": {},
   "outputs": [],
   "source": [
    "def get_fine_tuning_data(num_samples):\n",
    "    for i in range(num_samples):\n",
    "        board.start_stream()\n",
    "        time.sleep(5)\n",
    "        data = board.get_board_data() \n",
    "        board.stop_stream()\n",
    "        board.release_session()\n",
    "        eeg_data = data[eeg_channel_indices, :]\n",
    "        df = pd.DataFrame(eeg_data)\n",
    "        df.to_csv(f\"eeg-fine-tuning-data-{i}.csv\", index=False)"
   ]
  },
  {
   "cell_type": "code",
   "execution_count": null,
   "metadata": {},
   "outputs": [],
   "source": [
    "import matplotlib.pyplot as plt\n",
    "import numpy as np\n",
    "\n",
    "sampling_rate = 250 #hz\n",
    "n_samples = df.shape[1]\n",
    "time_vector = np.arange(n_samples) / sampling_rate \n",
    "\n",
    "fig, axes = plt.subplots(16, 1, figsize=(15, 30), sharex=True)\n",
    "\n",
    "for i, channel in enumerate(df.index):\n",
    "    axes[i].plot(time_vector, df.loc[channel], label=channel)\n",
    "    axes[i].set_ylabel('Amplitude (uV)')\n",
    "    axes[i].legend(loc='upper right')\n",
    "    \n",
    "axes[-1].set_xlabel('Time (s)')\n",
    "\n",
    "plt.tight_layout()\n",
    "plt.show()"
   ]
  }
 ],
 "metadata": {
  "kernelspec": {
   "display_name": ".venv",
   "language": "python",
   "name": "python3"
  },
  "language_info": {
   "codemirror_mode": {
    "name": "ipython",
    "version": 3
   },
   "file_extension": ".py",
   "mimetype": "text/x-python",
   "name": "python",
   "nbconvert_exporter": "python",
   "pygments_lexer": "ipython3",
   "version": "3.13.2"
  }
 },
 "nbformat": 4,
 "nbformat_minor": 2
}
